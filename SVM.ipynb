{
  "nbformat": 4,
  "nbformat_minor": 0,
  "metadata": {
    "colab": {
      "name": "SVM.ipynb",
      "provenance": [],
      "collapsed_sections": []
    },
    "kernelspec": {
      "name": "python3",
      "display_name": "Python 3"
    },
    "widgets": {
      "application/vnd.jupyter.widget-state+json": {
        "4dab603949ab408b896f1189c9e841d3": {
          "model_module": "@jupyter-widgets/controls",
          "model_name": "HBoxModel",
          "state": {
            "_view_name": "HBoxView",
            "_dom_classes": [],
            "_model_name": "HBoxModel",
            "_view_module": "@jupyter-widgets/controls",
            "_model_module_version": "1.5.0",
            "_view_count": null,
            "_view_module_version": "1.5.0",
            "box_style": "",
            "layout": "IPY_MODEL_dde2ad539e8b42ce80185725ce1d8076",
            "_model_module": "@jupyter-widgets/controls",
            "children": [
              "IPY_MODEL_27bf4abe236b4514b45a6cfb56ff673b",
              "IPY_MODEL_9351ff4c7cc7415288eb9cbca20a2dc5"
            ]
          }
        },
        "dde2ad539e8b42ce80185725ce1d8076": {
          "model_module": "@jupyter-widgets/base",
          "model_name": "LayoutModel",
          "state": {
            "_view_name": "LayoutView",
            "grid_template_rows": null,
            "right": null,
            "justify_content": null,
            "_view_module": "@jupyter-widgets/base",
            "overflow": null,
            "_model_module_version": "1.2.0",
            "_view_count": null,
            "flex_flow": null,
            "width": null,
            "min_width": null,
            "border": null,
            "align_items": null,
            "bottom": null,
            "_model_module": "@jupyter-widgets/base",
            "top": null,
            "grid_column": null,
            "overflow_y": null,
            "overflow_x": null,
            "grid_auto_flow": null,
            "grid_area": null,
            "grid_template_columns": null,
            "flex": null,
            "_model_name": "LayoutModel",
            "justify_items": null,
            "grid_row": null,
            "max_height": null,
            "align_content": null,
            "visibility": null,
            "align_self": null,
            "height": null,
            "min_height": null,
            "padding": null,
            "grid_auto_rows": null,
            "grid_gap": null,
            "max_width": null,
            "order": null,
            "_view_module_version": "1.2.0",
            "grid_template_areas": null,
            "object_position": null,
            "object_fit": null,
            "grid_auto_columns": null,
            "margin": null,
            "display": null,
            "left": null
          }
        },
        "27bf4abe236b4514b45a6cfb56ff673b": {
          "model_module": "@jupyter-widgets/controls",
          "model_name": "FloatProgressModel",
          "state": {
            "_view_name": "ProgressView",
            "style": "IPY_MODEL_e0331e6a10d6471499426db81a335c45",
            "_dom_classes": [],
            "description": "100%",
            "_model_name": "FloatProgressModel",
            "bar_style": "success",
            "max": 60000,
            "_view_module": "@jupyter-widgets/controls",
            "_model_module_version": "1.5.0",
            "value": 60000,
            "_view_count": null,
            "_view_module_version": "1.5.0",
            "orientation": "horizontal",
            "min": 0,
            "description_tooltip": null,
            "_model_module": "@jupyter-widgets/controls",
            "layout": "IPY_MODEL_d970c9186bcf4deeba8e01b4424176dd"
          }
        },
        "9351ff4c7cc7415288eb9cbca20a2dc5": {
          "model_module": "@jupyter-widgets/controls",
          "model_name": "HTMLModel",
          "state": {
            "_view_name": "HTMLView",
            "style": "IPY_MODEL_2604593ad4744bcea70a5a6ed9357ae3",
            "_dom_classes": [],
            "description": "",
            "_model_name": "HTMLModel",
            "placeholder": "​",
            "_view_module": "@jupyter-widgets/controls",
            "_model_module_version": "1.5.0",
            "value": " 60000/60000 [00:38&lt;00:00, 1577.23it/s]",
            "_view_count": null,
            "_view_module_version": "1.5.0",
            "description_tooltip": null,
            "_model_module": "@jupyter-widgets/controls",
            "layout": "IPY_MODEL_82dff58afa7a4b2989639e4e4600ca18"
          }
        },
        "e0331e6a10d6471499426db81a335c45": {
          "model_module": "@jupyter-widgets/controls",
          "model_name": "ProgressStyleModel",
          "state": {
            "_view_name": "StyleView",
            "_model_name": "ProgressStyleModel",
            "description_width": "initial",
            "_view_module": "@jupyter-widgets/base",
            "_model_module_version": "1.5.0",
            "_view_count": null,
            "_view_module_version": "1.2.0",
            "bar_color": null,
            "_model_module": "@jupyter-widgets/controls"
          }
        },
        "d970c9186bcf4deeba8e01b4424176dd": {
          "model_module": "@jupyter-widgets/base",
          "model_name": "LayoutModel",
          "state": {
            "_view_name": "LayoutView",
            "grid_template_rows": null,
            "right": null,
            "justify_content": null,
            "_view_module": "@jupyter-widgets/base",
            "overflow": null,
            "_model_module_version": "1.2.0",
            "_view_count": null,
            "flex_flow": null,
            "width": null,
            "min_width": null,
            "border": null,
            "align_items": null,
            "bottom": null,
            "_model_module": "@jupyter-widgets/base",
            "top": null,
            "grid_column": null,
            "overflow_y": null,
            "overflow_x": null,
            "grid_auto_flow": null,
            "grid_area": null,
            "grid_template_columns": null,
            "flex": null,
            "_model_name": "LayoutModel",
            "justify_items": null,
            "grid_row": null,
            "max_height": null,
            "align_content": null,
            "visibility": null,
            "align_self": null,
            "height": null,
            "min_height": null,
            "padding": null,
            "grid_auto_rows": null,
            "grid_gap": null,
            "max_width": null,
            "order": null,
            "_view_module_version": "1.2.0",
            "grid_template_areas": null,
            "object_position": null,
            "object_fit": null,
            "grid_auto_columns": null,
            "margin": null,
            "display": null,
            "left": null
          }
        },
        "2604593ad4744bcea70a5a6ed9357ae3": {
          "model_module": "@jupyter-widgets/controls",
          "model_name": "DescriptionStyleModel",
          "state": {
            "_view_name": "StyleView",
            "_model_name": "DescriptionStyleModel",
            "description_width": "",
            "_view_module": "@jupyter-widgets/base",
            "_model_module_version": "1.5.0",
            "_view_count": null,
            "_view_module_version": "1.2.0",
            "_model_module": "@jupyter-widgets/controls"
          }
        },
        "82dff58afa7a4b2989639e4e4600ca18": {
          "model_module": "@jupyter-widgets/base",
          "model_name": "LayoutModel",
          "state": {
            "_view_name": "LayoutView",
            "grid_template_rows": null,
            "right": null,
            "justify_content": null,
            "_view_module": "@jupyter-widgets/base",
            "overflow": null,
            "_model_module_version": "1.2.0",
            "_view_count": null,
            "flex_flow": null,
            "width": null,
            "min_width": null,
            "border": null,
            "align_items": null,
            "bottom": null,
            "_model_module": "@jupyter-widgets/base",
            "top": null,
            "grid_column": null,
            "overflow_y": null,
            "overflow_x": null,
            "grid_auto_flow": null,
            "grid_area": null,
            "grid_template_columns": null,
            "flex": null,
            "_model_name": "LayoutModel",
            "justify_items": null,
            "grid_row": null,
            "max_height": null,
            "align_content": null,
            "visibility": null,
            "align_self": null,
            "height": null,
            "min_height": null,
            "padding": null,
            "grid_auto_rows": null,
            "grid_gap": null,
            "max_width": null,
            "order": null,
            "_view_module_version": "1.2.0",
            "grid_template_areas": null,
            "object_position": null,
            "object_fit": null,
            "grid_auto_columns": null,
            "margin": null,
            "display": null,
            "left": null
          }
        },
        "799ac8e4d01545ef987c50445ca8473c": {
          "model_module": "@jupyter-widgets/controls",
          "model_name": "HBoxModel",
          "state": {
            "_view_name": "HBoxView",
            "_dom_classes": [],
            "_model_name": "HBoxModel",
            "_view_module": "@jupyter-widgets/controls",
            "_model_module_version": "1.5.0",
            "_view_count": null,
            "_view_module_version": "1.5.0",
            "box_style": "",
            "layout": "IPY_MODEL_6e0a8944a8ab4f1a852730cae7bddce6",
            "_model_module": "@jupyter-widgets/controls",
            "children": [
              "IPY_MODEL_dd7beba27da048649b202e4824cb3bf1",
              "IPY_MODEL_4915cf1e8a0e455b9a7e12cdf63cee53"
            ]
          }
        },
        "6e0a8944a8ab4f1a852730cae7bddce6": {
          "model_module": "@jupyter-widgets/base",
          "model_name": "LayoutModel",
          "state": {
            "_view_name": "LayoutView",
            "grid_template_rows": null,
            "right": null,
            "justify_content": null,
            "_view_module": "@jupyter-widgets/base",
            "overflow": null,
            "_model_module_version": "1.2.0",
            "_view_count": null,
            "flex_flow": null,
            "width": null,
            "min_width": null,
            "border": null,
            "align_items": null,
            "bottom": null,
            "_model_module": "@jupyter-widgets/base",
            "top": null,
            "grid_column": null,
            "overflow_y": null,
            "overflow_x": null,
            "grid_auto_flow": null,
            "grid_area": null,
            "grid_template_columns": null,
            "flex": null,
            "_model_name": "LayoutModel",
            "justify_items": null,
            "grid_row": null,
            "max_height": null,
            "align_content": null,
            "visibility": null,
            "align_self": null,
            "height": null,
            "min_height": null,
            "padding": null,
            "grid_auto_rows": null,
            "grid_gap": null,
            "max_width": null,
            "order": null,
            "_view_module_version": "1.2.0",
            "grid_template_areas": null,
            "object_position": null,
            "object_fit": null,
            "grid_auto_columns": null,
            "margin": null,
            "display": null,
            "left": null
          }
        },
        "dd7beba27da048649b202e4824cb3bf1": {
          "model_module": "@jupyter-widgets/controls",
          "model_name": "FloatProgressModel",
          "state": {
            "_view_name": "ProgressView",
            "style": "IPY_MODEL_88bc5c8a9a4d4de8bf7884b88b43336f",
            "_dom_classes": [],
            "description": "100%",
            "_model_name": "FloatProgressModel",
            "bar_style": "success",
            "max": 10000,
            "_view_module": "@jupyter-widgets/controls",
            "_model_module_version": "1.5.0",
            "value": 10000,
            "_view_count": null,
            "_view_module_version": "1.5.0",
            "orientation": "horizontal",
            "min": 0,
            "description_tooltip": null,
            "_model_module": "@jupyter-widgets/controls",
            "layout": "IPY_MODEL_e0d1593d8df648fe9d2113a9843ad889"
          }
        },
        "4915cf1e8a0e455b9a7e12cdf63cee53": {
          "model_module": "@jupyter-widgets/controls",
          "model_name": "HTMLModel",
          "state": {
            "_view_name": "HTMLView",
            "style": "IPY_MODEL_0ad5f99ae6814d6c9a2bf2ad8b9a849f",
            "_dom_classes": [],
            "description": "",
            "_model_name": "HTMLModel",
            "placeholder": "​",
            "_view_module": "@jupyter-widgets/controls",
            "_model_module_version": "1.5.0",
            "value": " 10000/10000 [00:02&lt;00:00, 4687.45it/s]",
            "_view_count": null,
            "_view_module_version": "1.5.0",
            "description_tooltip": null,
            "_model_module": "@jupyter-widgets/controls",
            "layout": "IPY_MODEL_765479b0d6fc44d19579b9a4a6ae5809"
          }
        },
        "88bc5c8a9a4d4de8bf7884b88b43336f": {
          "model_module": "@jupyter-widgets/controls",
          "model_name": "ProgressStyleModel",
          "state": {
            "_view_name": "StyleView",
            "_model_name": "ProgressStyleModel",
            "description_width": "initial",
            "_view_module": "@jupyter-widgets/base",
            "_model_module_version": "1.5.0",
            "_view_count": null,
            "_view_module_version": "1.2.0",
            "bar_color": null,
            "_model_module": "@jupyter-widgets/controls"
          }
        },
        "e0d1593d8df648fe9d2113a9843ad889": {
          "model_module": "@jupyter-widgets/base",
          "model_name": "LayoutModel",
          "state": {
            "_view_name": "LayoutView",
            "grid_template_rows": null,
            "right": null,
            "justify_content": null,
            "_view_module": "@jupyter-widgets/base",
            "overflow": null,
            "_model_module_version": "1.2.0",
            "_view_count": null,
            "flex_flow": null,
            "width": null,
            "min_width": null,
            "border": null,
            "align_items": null,
            "bottom": null,
            "_model_module": "@jupyter-widgets/base",
            "top": null,
            "grid_column": null,
            "overflow_y": null,
            "overflow_x": null,
            "grid_auto_flow": null,
            "grid_area": null,
            "grid_template_columns": null,
            "flex": null,
            "_model_name": "LayoutModel",
            "justify_items": null,
            "grid_row": null,
            "max_height": null,
            "align_content": null,
            "visibility": null,
            "align_self": null,
            "height": null,
            "min_height": null,
            "padding": null,
            "grid_auto_rows": null,
            "grid_gap": null,
            "max_width": null,
            "order": null,
            "_view_module_version": "1.2.0",
            "grid_template_areas": null,
            "object_position": null,
            "object_fit": null,
            "grid_auto_columns": null,
            "margin": null,
            "display": null,
            "left": null
          }
        },
        "0ad5f99ae6814d6c9a2bf2ad8b9a849f": {
          "model_module": "@jupyter-widgets/controls",
          "model_name": "DescriptionStyleModel",
          "state": {
            "_view_name": "StyleView",
            "_model_name": "DescriptionStyleModel",
            "description_width": "",
            "_view_module": "@jupyter-widgets/base",
            "_model_module_version": "1.5.0",
            "_view_count": null,
            "_view_module_version": "1.2.0",
            "_model_module": "@jupyter-widgets/controls"
          }
        },
        "765479b0d6fc44d19579b9a4a6ae5809": {
          "model_module": "@jupyter-widgets/base",
          "model_name": "LayoutModel",
          "state": {
            "_view_name": "LayoutView",
            "grid_template_rows": null,
            "right": null,
            "justify_content": null,
            "_view_module": "@jupyter-widgets/base",
            "overflow": null,
            "_model_module_version": "1.2.0",
            "_view_count": null,
            "flex_flow": null,
            "width": null,
            "min_width": null,
            "border": null,
            "align_items": null,
            "bottom": null,
            "_model_module": "@jupyter-widgets/base",
            "top": null,
            "grid_column": null,
            "overflow_y": null,
            "overflow_x": null,
            "grid_auto_flow": null,
            "grid_area": null,
            "grid_template_columns": null,
            "flex": null,
            "_model_name": "LayoutModel",
            "justify_items": null,
            "grid_row": null,
            "max_height": null,
            "align_content": null,
            "visibility": null,
            "align_self": null,
            "height": null,
            "min_height": null,
            "padding": null,
            "grid_auto_rows": null,
            "grid_gap": null,
            "max_width": null,
            "order": null,
            "_view_module_version": "1.2.0",
            "grid_template_areas": null,
            "object_position": null,
            "object_fit": null,
            "grid_auto_columns": null,
            "margin": null,
            "display": null,
            "left": null
          }
        },
        "424f9c0a05dc45c38ad8526c66a73c07": {
          "model_module": "@jupyter-widgets/controls",
          "model_name": "HBoxModel",
          "state": {
            "_view_name": "HBoxView",
            "_dom_classes": [],
            "_model_name": "HBoxModel",
            "_view_module": "@jupyter-widgets/controls",
            "_model_module_version": "1.5.0",
            "_view_count": null,
            "_view_module_version": "1.5.0",
            "box_style": "",
            "layout": "IPY_MODEL_f561694703124f8c9753c649c912b06d",
            "_model_module": "@jupyter-widgets/controls",
            "children": [
              "IPY_MODEL_e99ce67df1894069b5f3286bca048be6",
              "IPY_MODEL_d283af52d0eb43c4bbcd5b5575c42552"
            ]
          }
        },
        "f561694703124f8c9753c649c912b06d": {
          "model_module": "@jupyter-widgets/base",
          "model_name": "LayoutModel",
          "state": {
            "_view_name": "LayoutView",
            "grid_template_rows": null,
            "right": null,
            "justify_content": null,
            "_view_module": "@jupyter-widgets/base",
            "overflow": null,
            "_model_module_version": "1.2.0",
            "_view_count": null,
            "flex_flow": null,
            "width": null,
            "min_width": null,
            "border": null,
            "align_items": null,
            "bottom": null,
            "_model_module": "@jupyter-widgets/base",
            "top": null,
            "grid_column": null,
            "overflow_y": null,
            "overflow_x": null,
            "grid_auto_flow": null,
            "grid_area": null,
            "grid_template_columns": null,
            "flex": null,
            "_model_name": "LayoutModel",
            "justify_items": null,
            "grid_row": null,
            "max_height": null,
            "align_content": null,
            "visibility": null,
            "align_self": null,
            "height": null,
            "min_height": null,
            "padding": null,
            "grid_auto_rows": null,
            "grid_gap": null,
            "max_width": null,
            "order": null,
            "_view_module_version": "1.2.0",
            "grid_template_areas": null,
            "object_position": null,
            "object_fit": null,
            "grid_auto_columns": null,
            "margin": null,
            "display": null,
            "left": null
          }
        },
        "e99ce67df1894069b5f3286bca048be6": {
          "model_module": "@jupyter-widgets/controls",
          "model_name": "FloatProgressModel",
          "state": {
            "_view_name": "ProgressView",
            "style": "IPY_MODEL_a52d1b8d3bfe462391e2c8fc613d82d8",
            "_dom_classes": [],
            "description": " 25%",
            "_model_name": "FloatProgressModel",
            "bar_style": "danger",
            "max": 100000,
            "_view_module": "@jupyter-widgets/controls",
            "_model_module_version": "1.5.0",
            "value": 25192,
            "_view_count": null,
            "_view_module_version": "1.5.0",
            "orientation": "horizontal",
            "min": 0,
            "description_tooltip": null,
            "_model_module": "@jupyter-widgets/controls",
            "layout": "IPY_MODEL_35d1ae3d8ac34690b0fa545916f2b09b"
          }
        },
        "d283af52d0eb43c4bbcd5b5575c42552": {
          "model_module": "@jupyter-widgets/controls",
          "model_name": "HTMLModel",
          "state": {
            "_view_name": "HTMLView",
            "style": "IPY_MODEL_0a6b65a3189644eb91e8aebb1651b1cc",
            "_dom_classes": [],
            "description": "",
            "_model_name": "HTMLModel",
            "placeholder": "​",
            "_view_module": "@jupyter-widgets/controls",
            "_model_module_version": "1.5.0",
            "value": " 25192/100000 [00:57&lt;01:54, 653.45it/s]",
            "_view_count": null,
            "_view_module_version": "1.5.0",
            "description_tooltip": null,
            "_model_module": "@jupyter-widgets/controls",
            "layout": "IPY_MODEL_fcd3ad93a8704cefb6b69522531d0df6"
          }
        },
        "a52d1b8d3bfe462391e2c8fc613d82d8": {
          "model_module": "@jupyter-widgets/controls",
          "model_name": "ProgressStyleModel",
          "state": {
            "_view_name": "StyleView",
            "_model_name": "ProgressStyleModel",
            "description_width": "initial",
            "_view_module": "@jupyter-widgets/base",
            "_model_module_version": "1.5.0",
            "_view_count": null,
            "_view_module_version": "1.2.0",
            "bar_color": null,
            "_model_module": "@jupyter-widgets/controls"
          }
        },
        "35d1ae3d8ac34690b0fa545916f2b09b": {
          "model_module": "@jupyter-widgets/base",
          "model_name": "LayoutModel",
          "state": {
            "_view_name": "LayoutView",
            "grid_template_rows": null,
            "right": null,
            "justify_content": null,
            "_view_module": "@jupyter-widgets/base",
            "overflow": null,
            "_model_module_version": "1.2.0",
            "_view_count": null,
            "flex_flow": null,
            "width": null,
            "min_width": null,
            "border": null,
            "align_items": null,
            "bottom": null,
            "_model_module": "@jupyter-widgets/base",
            "top": null,
            "grid_column": null,
            "overflow_y": null,
            "overflow_x": null,
            "grid_auto_flow": null,
            "grid_area": null,
            "grid_template_columns": null,
            "flex": null,
            "_model_name": "LayoutModel",
            "justify_items": null,
            "grid_row": null,
            "max_height": null,
            "align_content": null,
            "visibility": null,
            "align_self": null,
            "height": null,
            "min_height": null,
            "padding": null,
            "grid_auto_rows": null,
            "grid_gap": null,
            "max_width": null,
            "order": null,
            "_view_module_version": "1.2.0",
            "grid_template_areas": null,
            "object_position": null,
            "object_fit": null,
            "grid_auto_columns": null,
            "margin": null,
            "display": null,
            "left": null
          }
        },
        "0a6b65a3189644eb91e8aebb1651b1cc": {
          "model_module": "@jupyter-widgets/controls",
          "model_name": "DescriptionStyleModel",
          "state": {
            "_view_name": "StyleView",
            "_model_name": "DescriptionStyleModel",
            "description_width": "",
            "_view_module": "@jupyter-widgets/base",
            "_model_module_version": "1.5.0",
            "_view_count": null,
            "_view_module_version": "1.2.0",
            "_model_module": "@jupyter-widgets/controls"
          }
        },
        "fcd3ad93a8704cefb6b69522531d0df6": {
          "model_module": "@jupyter-widgets/base",
          "model_name": "LayoutModel",
          "state": {
            "_view_name": "LayoutView",
            "grid_template_rows": null,
            "right": null,
            "justify_content": null,
            "_view_module": "@jupyter-widgets/base",
            "overflow": null,
            "_model_module_version": "1.2.0",
            "_view_count": null,
            "flex_flow": null,
            "width": null,
            "min_width": null,
            "border": null,
            "align_items": null,
            "bottom": null,
            "_model_module": "@jupyter-widgets/base",
            "top": null,
            "grid_column": null,
            "overflow_y": null,
            "overflow_x": null,
            "grid_auto_flow": null,
            "grid_area": null,
            "grid_template_columns": null,
            "flex": null,
            "_model_name": "LayoutModel",
            "justify_items": null,
            "grid_row": null,
            "max_height": null,
            "align_content": null,
            "visibility": null,
            "align_self": null,
            "height": null,
            "min_height": null,
            "padding": null,
            "grid_auto_rows": null,
            "grid_gap": null,
            "max_width": null,
            "order": null,
            "_view_module_version": "1.2.0",
            "grid_template_areas": null,
            "object_position": null,
            "object_fit": null,
            "grid_auto_columns": null,
            "margin": null,
            "display": null,
            "left": null
          }
        }
      }
    }
  },
  "cells": [
    {
      "cell_type": "markdown",
      "metadata": {
        "id": "XeAD9ZeSeHRC"
      },
      "source": [
        "# Import Packages"
      ]
    },
    {
      "cell_type": "code",
      "metadata": {
        "id": "hs-u4PkBfD3d"
      },
      "source": [
        "%cd /content/drive/My Drive/20FA/DataMining/HW3"
      ],
      "execution_count": null,
      "outputs": []
    },
    {
      "cell_type": "code",
      "metadata": {
        "id": "LSrdve7YjZJd"
      },
      "source": [
        "import numpy as np\n",
        "from scipy.optimize import minimize\n",
        "from scipy.optimize import LinearConstraint\n",
        "from tqdm.notebook import tqdm\n",
        "import torch\n",
        "from torchvision import datasets, transforms\n",
        "import matplotlib.pyplot as plt\n",
        "%matplotlib inline"
      ],
      "execution_count": 8,
      "outputs": []
    },
    {
      "cell_type": "markdown",
      "metadata": {
        "id": "LZbiDkD1Na0J"
      },
      "source": [
        "# \"0\"/\"9\" Data Extraction"
      ]
    },
    {
      "cell_type": "code",
      "metadata": {
        "id": "a5pAg2Sm71PN"
      },
      "source": [
        "transform = transforms.Compose([\n",
        "    transforms.ToTensor(),\n",
        "    transforms.Normalize((0.5,),(0.5)),\n",
        "])\n",
        "trainset = datasets.MNIST('PATH_TO_STORE_TRAINSET', download=True, train=True, transform=transform)\n",
        "valset = datasets.MNIST('PATH_TO_STORE_TESTSET', download=True, train=False, transform=transform)\n",
        "\n",
        "trainloader = torch.utils.data.DataLoader(trainset)\n",
        "valloader = torch.utils.data.DataLoader(valset)"
      ],
      "execution_count": 4,
      "outputs": []
    },
    {
      "cell_type": "code",
      "metadata": {
        "colab": {
          "base_uri": "https://localhost:8080/",
          "height": 67,
          "referenced_widgets": [
            "4dab603949ab408b896f1189c9e841d3",
            "dde2ad539e8b42ce80185725ce1d8076",
            "27bf4abe236b4514b45a6cfb56ff673b",
            "9351ff4c7cc7415288eb9cbca20a2dc5",
            "e0331e6a10d6471499426db81a335c45",
            "d970c9186bcf4deeba8e01b4424176dd",
            "2604593ad4744bcea70a5a6ed9357ae3",
            "82dff58afa7a4b2989639e4e4600ca18"
          ]
        },
        "id": "StrinWs2-DEw",
        "outputId": "d235c990-e0d3-483e-9707-c9e6272ed8ff"
      },
      "source": [
        "ZeroNineTrain = [i for i in tqdm(trainset) if (i[1] == 0)|(i[1] == 9)]\n",
        "X_train, y_train = zip(*ZeroNineTrain)\n",
        "X_train = torch.stack(X_train)\n",
        "y_train = torch.tensor(y_train)"
      ],
      "execution_count": 5,
      "outputs": [
        {
          "output_type": "display_data",
          "data": {
            "application/vnd.jupyter.widget-view+json": {
              "model_id": "4dab603949ab408b896f1189c9e841d3",
              "version_minor": 0,
              "version_major": 2
            },
            "text/plain": [
              "HBox(children=(FloatProgress(value=0.0, max=60000.0), HTML(value='')))"
            ]
          },
          "metadata": {
            "tags": []
          }
        },
        {
          "output_type": "stream",
          "text": [
            "\n"
          ],
          "name": "stdout"
        }
      ]
    },
    {
      "cell_type": "code",
      "metadata": {
        "colab": {
          "base_uri": "https://localhost:8080/",
          "height": 67,
          "referenced_widgets": [
            "799ac8e4d01545ef987c50445ca8473c",
            "6e0a8944a8ab4f1a852730cae7bddce6",
            "dd7beba27da048649b202e4824cb3bf1",
            "4915cf1e8a0e455b9a7e12cdf63cee53",
            "88bc5c8a9a4d4de8bf7884b88b43336f",
            "e0d1593d8df648fe9d2113a9843ad889",
            "0ad5f99ae6814d6c9a2bf2ad8b9a849f",
            "765479b0d6fc44d19579b9a4a6ae5809"
          ]
        },
        "id": "iunWaa-LLHr8",
        "outputId": "07f7fc71-184d-404a-ca71-0df2192473e1"
      },
      "source": [
        "ZeroNineVal = [i for i in tqdm(valset) if (i[1] == 0)|(i[1] == 9)]\n",
        "X_val, y_val = zip(*ZeroNineVal)\n",
        "X_val = torch.stack(X_val)\n",
        "y_val = torch.tensor(y_val)"
      ],
      "execution_count": 6,
      "outputs": [
        {
          "output_type": "display_data",
          "data": {
            "application/vnd.jupyter.widget-view+json": {
              "model_id": "799ac8e4d01545ef987c50445ca8473c",
              "version_minor": 0,
              "version_major": 2
            },
            "text/plain": [
              "HBox(children=(FloatProgress(value=0.0, max=10000.0), HTML(value='')))"
            ]
          },
          "metadata": {
            "tags": []
          }
        },
        {
          "output_type": "stream",
          "text": [
            "\n"
          ],
          "name": "stdout"
        }
      ]
    },
    {
      "cell_type": "code",
      "metadata": {
        "colab": {
          "base_uri": "https://localhost:8080/",
          "height": 283
        },
        "id": "WSilmjmdM86T",
        "outputId": "615977da-ab32-4f15-85d1-6ab114dba597"
      },
      "source": [
        "plt.imshow(X_train[0].squeeze(), cmap=\"gray_r\")\n",
        "plt.show()\n",
        "y_train[0]"
      ],
      "execution_count": 9,
      "outputs": [
        {
          "output_type": "display_data",
          "data": {
            "image/png": "[encoded data removed]",
            "text/plain": [
              "<Figure size 432x288 with 1 Axes>"
            ]
          },
          "metadata": {
            "tags": [],
            "needs_background": "light"
          }
        },
        {
          "output_type": "execute_result",
          "data": {
            "text/plain": [
              "tensor(0)"
            ]
          },
          "metadata": {
            "tags": []
          },
          "execution_count": 9
        }
      ]
    },
    {
      "cell_type": "code",
      "metadata": {
        "id": "fw3XWOKFLX9C"
      },
      "source": [
        "torch.save(X_train, \"X_train.pt\")\n",
        "torch.save(y_train, \"y_train.pt\")\n",
        "torch.save(X_val, \"X_val.pt\")\n",
        "torch.save(y_val, \"y_val.pt\")"
      ],
      "execution_count": 10,
      "outputs": []
    },
    {
      "cell_type": "markdown",
      "metadata": {
        "id": "i6Jxwqv6eJ_G"
      },
      "source": [
        "# Class: SVM"
      ]
    },
    {
      "cell_type": "code",
      "metadata": {
        "id": "TEie0FM_xokK"
      },
      "source": [
        "class SVM():\n",
        "    \"\"\" \n",
        "    SVM binary classifier, optimizing with the dual lagrangian program, \n",
        "    trained on batch. Uses the SMO algorithm.\n",
        "\n",
        "    [CS229 - Kernel Methods and SVM](http://cs229.stanford.edu/notes2020fall/notes2020fall/cs229-notes3.pdf)\n",
        "\n",
        "    ## Input:\n",
        "        X: (N, d)\n",
        "        Y: (N,)\n",
        "        n = batch_size: int\n",
        "        C: l1 regularization term. alpha_i in [0, C]\n",
        "\n",
        "    ## Intermediate parameters:\n",
        "        x: (n, d), random batch of X\n",
        "        y: (n)\n",
        "        M: (n, n), M[i,j] = y_iy_j<x_i,x_j>\n",
        "\n",
        "    ## Learned parameters:\n",
        "        alpha: (n,)\n",
        "        w: (d,)\n",
        "        b: int\n",
        "\n",
        "    \"\"\"\n",
        "\n",
        "    def __init__(self, X, Y, batch_size=64, C=5):\n",
        "        # X: (N,d), Y: (N,), x: (n,d), y:(n,)\n",
        "        # Fixed values\n",
        "        self.N, self.d = X.shape\n",
        "        self.n = batch_size\n",
        "        self.C = C\n",
        "        self.X = X\n",
        "        self.Y = Y\n",
        "        self.x = self.X[:self.n]\n",
        "        self.y = self.Y[:self.n]\n",
        "        self.M = np.outer(self.y,self.y) * np.dot(self.x, self.x.T)\n",
        "\n",
        "        \n",
        "        # Learned parameters\n",
        "        self.alpha = np.ones(self.n)\n",
        "        self.w = np.zeros(self.d)\n",
        "        self.b = 0\n",
        "    \n",
        "    def shuffle_batch(self):\n",
        "        batch_indices = np.random.choice(np.arange(self.N), self.n)\n",
        "        self.x = self.X[batch_indices]\n",
        "        self.y = self.Y[batch_indices]\n",
        "        self.M = np.outer(self.y,self.y) * np.dot(self.x, self.x.T)\n",
        "\n",
        "    def update_alpha(self, random_idx1, random_idx2):\n",
        "        Zeta = -np.sum(self.alpha*self.y) + (self.alpha*self.y)[random_idx1] + (self.alpha*self.y)[random_idx2]\n",
        "        self.alpha[random_idx1] = (Zeta - self.alpha[random_idx2]*self.y[random_idx2])*self.y[random_idx1]\n",
        "\n",
        "    def dual_obj(self, alpha):\n",
        "        return np.sum(alpha) - np.sum(0.5 * self.M * np.outer(alpha,alpha))\n",
        "    \n",
        "    def optimize(self, iterations = 100000, tol=1e-2):\n",
        "        prev_val = self.dual_obj(self.alpha)\n",
        "        # The first shuffling happens at time 0\n",
        "        shuffle_timepoint=0\n",
        "\n",
        "\n",
        "        for i in tqdm(range(iterations)):\n",
        "            self.w = np.dot(self.alpha*self.y, self.x)\n",
        "            self.b = (np.max(np.dot(self.x, self.w)[self.y==-1]) + np.min(np.dot(self.x, self.w)[self.y==1])) * -0.5\n",
        "\n",
        "            # Select 2 alphas randomly\n",
        "            random_idx1, random_idx2 = np.random.choice(np.arange(0, self.n), 2)\n",
        "\n",
        "            # The (quadratic w.r.t a2) function that scipy.optimize.minimize takes\n",
        "            def optimizeWRTa2(a2):\n",
        "                self.alpha[random_idx2] = a2\n",
        "                self.update_alpha(random_idx1, random_idx2)\n",
        "                return -self.dual_obj(self.alpha)\n",
        "\n",
        "            # Solve optimization w.r.t a2\n",
        "            a2 = self.alpha[random_idx2]\n",
        "            res = minimize(optimizeWRTa2, a2, bounds=[(0,self.C)])\n",
        "            a2 = res.x\n",
        "\n",
        "            # Update a2 in alpha\n",
        "            self.alpha[random_idx2] = a2\n",
        "            self.update_alpha(random_idx1, random_idx2)\n",
        "\n",
        "            # Check convergence\n",
        "            if (i%100 == 1):\n",
        "                if np.abs(self.dual_obj(self.alpha) - prev_val) < tol:\n",
        "                    if i - shuffle_timepoint < 300:\n",
        "                        print(\"Converges quickly after shuffling. End early.\")\n",
        "                        return\n",
        "                    else:\n",
        "                        print(f\"Optimized on one batch: {self.dual_obj(self.alpha) - prev_val}, shuffling... \\n\")\n",
        "                        self.shuffle_batch()\n",
        "                        # Record the time of shuffling. If next shuffling appears soon,\n",
        "                        # just end the training.\n",
        "                        shuffle_timepoint = i\n",
        "                        continue\n",
        "                else:\n",
        "                    if (i%1000 == 1):\n",
        "                        print(self.dual_obj(self.alpha) - prev_val)\n",
        "                    prev_val = self.dual_obj(self.alpha)\n",
        "\n"
      ],
      "execution_count": 29,
      "outputs": []
    },
    {
      "cell_type": "markdown",
      "metadata": {
        "id": "0z9a-ZrFJq9J"
      },
      "source": [
        "# Train & Val\n"
      ]
    },
    {
      "cell_type": "code",
      "metadata": {
        "id": "aqPowhJDJsUG"
      },
      "source": [
        "X_train = torch.load(\"X_train.pt\")\n",
        "y_train = torch.load(\"y_train.pt\")\n",
        "X_val = torch.load(\"X_val.pt\")\n",
        "y_val = torch.load(\"y_val.pt\")\n",
        "\n",
        "\n",
        "# Criteria: Label0: +1, Label9: -1\n",
        "y_train = (y_train==0)*2-1\n",
        "y_val = (y_val==0)*2-1"
      ],
      "execution_count": 12,
      "outputs": []
    },
    {
      "cell_type": "code",
      "metadata": {
        "id": "nabRJQs_J5DM"
      },
      "source": [
        "# Sample data\n",
        "X = X_train.squeeze().view((X_train.shape[0],-1)).numpy()\n",
        "Y = y_train.numpy()"
      ],
      "execution_count": 35,
      "outputs": []
    },
    {
      "cell_type": "code",
      "metadata": {
        "colab": {
          "base_uri": "https://localhost:8080/",
          "height": 1000,
          "referenced_widgets": [
            "424f9c0a05dc45c38ad8526c66a73c07",
            "f561694703124f8c9753c649c912b06d",
            "e99ce67df1894069b5f3286bca048be6",
            "d283af52d0eb43c4bbcd5b5575c42552",
            "a52d1b8d3bfe462391e2c8fc613d82d8",
            "35d1ae3d8ac34690b0fa545916f2b09b",
            "0a6b65a3189644eb91e8aebb1651b1cc",
            "fcd3ad93a8704cefb6b69522531d0df6"
          ]
        },
        "id": "yPapk5fqJ6hV",
        "outputId": "e237b361-b5fa-447b-c8f6-c8e6adad9f60"
      },
      "source": [
        "svm = SVM(X, Y)\n",
        "svm.optimize()"
      ],
      "execution_count": 36,
      "outputs": [
        {
          "output_type": "display_data",
          "data": {
            "application/vnd.jupyter.widget-view+json": {
              "model_id": "424f9c0a05dc45c38ad8526c66a73c07",
              "version_minor": 0,
              "version_major": 2
            },
            "text/plain": [
              "HBox(children=(FloatProgress(value=0.0, max=100000.0), HTML(value='')))"
            ]
          },
          "metadata": {
            "tags": []
          }
        },
        {
          "output_type": "stream",
          "text": [
            "10596.452697753906\n",
            "22.864360900076463\n",
            "-12045.66610562539\n",
            "-645.094309826681\n",
            "35.1945161057067\n",
            "-105.23131704341928\n",
            "-73.18730993853914\n",
            "2.128320978891651\n",
            "-0.13739681953040872\n",
            "-4.030676453026244\n",
            "-3.225604039375763\n",
            "4.1126622499861964\n",
            "0.026276751210134508\n",
            "-0.07643640168448268\n",
            "Optimized on one batch: -0.004814878714771723, shuffling... \n",
            "\n",
            "Optimized on one batch: -0.005937652458495313, shuffling... \n",
            "\n",
            "-0.06290097635171295\n",
            "0.010442479787019017\n",
            "Optimized on one batch: -0.0020271847500413984, shuffling... \n",
            "\n",
            "Optimized on one batch: 0.002147227212740077, shuffling... \n",
            "\n",
            "Optimized on one batch: 0.007473796428562454, shuffling... \n",
            "\n",
            "0.04198046960922795\n",
            "Optimized on one batch: 0.004023325610427862, shuffling... \n",
            "\n",
            "Optimized on one batch: -0.0023942530588283925, shuffling... \n",
            "\n",
            "-0.014573761176672279\n",
            "Optimized on one batch: -0.005471306713595928, shuffling... \n",
            "\n",
            "Optimized on one batch: -0.004258993823658304, shuffling... \n",
            "\n",
            "0.05877619830139519\n",
            "Optimized on one batch: -0.006257004532848595, shuffling... \n",
            "\n",
            "-0.32733017700781786\n",
            "Optimized on one batch: 0.0004878873781703347, shuffling... \n",
            "\n",
            "Optimized on one batch: 0.00431849863565173, shuffling... \n",
            "\n",
            "0.02101246573062332\n",
            "Optimized on one batch: -0.0015605192902741205, shuffling... \n",
            "\n",
            "Optimized on one batch: 0.007369852741817409, shuffling... \n",
            "\n",
            "0.15083362281660118\n",
            "Optimized on one batch: 0.00356773556694559, shuffling... \n",
            "\n",
            "Optimized on one batch: 0.0034512234208444598, shuffling... \n",
            "\n",
            "Converges quickly after shuffling. End early.\n"
          ],
          "name": "stdout"
        }
      ]
    },
    {
      "cell_type": "code",
      "metadata": {
        "id": "OKMzGb8WOkdJ"
      },
      "source": [
        "Y_ = np.sign(np.dot(X, svm.w) + svm.b)"
      ],
      "execution_count": 37,
      "outputs": []
    },
    {
      "cell_type": "code",
      "metadata": {
        "colab": {
          "base_uri": "https://localhost:8080/"
        },
        "id": "4SgZfxy6Ov0X",
        "outputId": "f5afe90d-0543-448a-f57c-4af75bfee821"
      },
      "source": [
        "np.mean(Y == Y_)"
      ],
      "execution_count": 38,
      "outputs": [
        {
          "output_type": "execute_result",
          "data": {
            "text/plain": [
              "0.9287398921832885"
            ]
          },
          "metadata": {
            "tags": []
          },
          "execution_count": 38
        }
      ]
    },
    {
      "cell_type": "code",
      "metadata": {
        "id": "pEsbAzXRb6Zj"
      },
      "source": [
        "X_test = X_val.squeeze().view((X_val.shape[0],-1)).numpy()\n",
        "Y_test = y_val.numpy()"
      ],
      "execution_count": 39,
      "outputs": []
    },
    {
      "cell_type": "code",
      "metadata": {
        "colab": {
          "base_uri": "https://localhost:8080/"
        },
        "id": "m40Xei-BcEIU",
        "outputId": "6e3856ec-b990-4f3e-b10d-39eb3b194c0d"
      },
      "source": [
        "np.mean(Y_test == np.sign(np.dot(X_test, svm.w) + svm.b))"
      ],
      "execution_count": 40,
      "outputs": [
        {
          "output_type": "execute_result",
          "data": {
            "text/plain": [
              "0.9225741578682756"
            ]
          },
          "metadata": {
            "tags": []
          },
          "execution_count": 40
        }
      ]
    }
  ]
}