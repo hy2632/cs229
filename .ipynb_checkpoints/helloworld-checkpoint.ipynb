{
 "cells": [
  {
   "cell_type": "code",
   "execution_count": 1,
   "metadata": {},
   "outputs": [
    {
     "name": "stdout",
     "output_type": "stream",
     "text": [
      "hello\n"
     ]
    }
   ],
   "source": [
    "print(\"hello\")"
   ]
  },
  {
   "cell_type": "code",
   "execution_count": 2,
   "metadata": {},
   "outputs": [],
   "source": [
    "import numpy as np\n",
    "import pandas as pd\n",
    "import matplotlib.pyplot as plt\n",
    "%matplotlib inline"
   ]
  },
  {
   "cell_type": "code",
   "execution_count": 4,
   "metadata": {},
   "outputs": [
    {
     "data": {
      "image/png": "[encoded data removed]",
      "text/plain": [
       "<Figure size 432x288 with 1 Axes>"
      ]
     },
     "metadata": {
      "needs_background": "light"
     },
     "output_type": "display_data"
    }
   ],
   "source": [
    "plt.plot((1,2))\n",
    "plt.show()"
   ]
  },
  {
   "cell_type": "code",
   "execution_count": 41,
   "metadata": {},
   "outputs": [
    {
     "data": {
      "text/plain": [
       "[1, 1, 2, 2, 3, 4, 24, 50, 89]"
      ]
     },
     "execution_count": 41,
     "metadata": {},
     "output_type": "execute_result"
    }
   ],
   "source": [
    "# quicksort\n",
    "\n",
    "def quicksort_step(arr:list, left:int, right:int):\n",
    "    if len(arr) == 0:\n",
    "        return arr\n",
    "    \n",
    "    partitionIndex = partition(arr, left, right)\n",
    "    if partitionIndex>left:\n",
    "        quicksort_step(arr, left, partitionIndex-1)\n",
    "    if partitionIndex<right:\n",
    "        quicksort_step(arr, partitionIndex+1, right)\n",
    "    return arr\n",
    "\n",
    "def partition(arr:list, left:int, right:int):\n",
    "    pivot = left\n",
    "    index = left + 1\n",
    "    for i in range(index, right+1, 1):\n",
    "        if arr[i] < arr[pivot]:\n",
    "            arr[i], arr[index] = arr[index], arr[i]\n",
    "            index += 1\n",
    "    arr[pivot], arr[index-1] = arr[index-1], arr[pivot]\n",
    "    return index - 1\n",
    "\n",
    "\n",
    "def quicksort(arr:list):\n",
    "    return quicksort_step(arr, 0, len(arr)-1)\n",
    "\n",
    "quicksort([50,24,1,2,4,89,3,2,1])\n",
    "    \n"
   ]
  },
  {
   "cell_type": "code",
   "execution_count": null,
   "metadata": {},
   "outputs": [],
   "source": []
  },
  {
   "cell_type": "code",
   "execution_count": null,
   "metadata": {},
   "outputs": [],
   "source": []
  }
 ],
 "metadata": {
  "kernelspec": {
   "display_name": "Python 3",
   "language": "python",
   "name": "python3"
  },
  "language_info": {
   "codemirror_mode": {
    "name": "ipython",
    "version": 3
   },
   "file_extension": ".py",
   "mimetype": "text/x-python",
   "name": "python",
   "nbconvert_exporter": "python",
   "pygments_lexer": "ipython3",
   "version": "3.8.3"
  }
 },
 "nbformat": 4,
 "nbformat_minor": 4
}
