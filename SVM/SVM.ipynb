{
  "nbformat": 4,
  "nbformat_minor": 0,
  "metadata": {
    "colab": {
      "name": "SVM.ipynb",
      "provenance": [],
      "collapsed_sections": []
    },
    "kernelspec": {
      "name": "python3",
      "display_name": "Python 3"
    },
    "widgets": {
      "application/vnd.jupyter.widget-state+json": {
        "4dab603949ab408b896f1189c9e841d3": {
          "model_module": "@jupyter-widgets/controls",
          "model_name": "HBoxModel",
          "state": {
            "_view_name": "HBoxView",
            "_dom_classes": [],
            "_model_name": "HBoxModel",
            "_view_module": "@jupyter-widgets/controls",
            "_model_module_version": "1.5.0",
            "_view_count": null,
            "_view_module_version": "1.5.0",
            "box_style": "",
            "layout": "IPY_MODEL_dde2ad539e8b42ce80185725ce1d8076",
            "_model_module": "@jupyter-widgets/controls",
            "children": [
              "IPY_MODEL_27bf4abe236b4514b45a6cfb56ff673b",
              "IPY_MODEL_9351ff4c7cc7415288eb9cbca20a2dc5"
            ]
          }
        },
        "dde2ad539e8b42ce80185725ce1d8076": {
          "model_module": "@jupyter-widgets/base",
          "model_name": "LayoutModel",
          "state": {
            "_view_name": "LayoutView",
            "grid_template_rows": null,
            "right": null,
            "justify_content": null,
            "_view_module": "@jupyter-widgets/base",
            "overflow": null,
            "_model_module_version": "1.2.0",
            "_view_count": null,
            "flex_flow": null,
            "width": null,
            "min_width": null,
            "border": null,
            "align_items": null,
            "bottom": null,
            "_model_module": "@jupyter-widgets/base",
            "top": null,
            "grid_column": null,
            "overflow_y": null,
            "overflow_x": null,
            "grid_auto_flow": null,
            "grid_area": null,
            "grid_template_columns": null,
            "flex": null,
            "_model_name": "LayoutModel",
            "justify_items": null,
            "grid_row": null,
            "max_height": null,
            "align_content": null,
            "visibility": null,
            "align_self": null,
            "height": null,
            "min_height": null,
            "padding": null,
            "grid_auto_rows": null,
            "grid_gap": null,
            "max_width": null,
            "order": null,
            "_view_module_version": "1.2.0",
            "grid_template_areas": null,
            "object_position": null,
            "object_fit": null,
            "grid_auto_columns": null,
            "margin": null,
            "display": null,
            "left": null
          }
        },
        "27bf4abe236b4514b45a6cfb56ff673b": {
          "model_module": "@jupyter-widgets/controls",
          "model_name": "FloatProgressModel",
          "state": {
            "_view_name": "ProgressView",
            "style": "IPY_MODEL_e0331e6a10d6471499426db81a335c45",
            "_dom_classes": [],
            "description": "100%",
            "_model_name": "FloatProgressModel",
            "bar_style": "success",
            "max": 60000,
            "_view_module": "@jupyter-widgets/controls",
            "_model_module_version": "1.5.0",
            "value": 60000,
            "_view_count": null,
            "_view_module_version": "1.5.0",
            "orientation": "horizontal",
            "min": 0,
            "description_tooltip": null,
            "_model_module": "@jupyter-widgets/controls",
            "layout": "IPY_MODEL_d970c9186bcf4deeba8e01b4424176dd"
          }
        },
        "9351ff4c7cc7415288eb9cbca20a2dc5": {
          "model_module": "@jupyter-widgets/controls",
          "model_name": "HTMLModel",
          "state": {
            "_view_name": "HTMLView",
            "style": "IPY_MODEL_2604593ad4744bcea70a5a6ed9357ae3",
            "_dom_classes": [],
            "description": "",
            "_model_name": "HTMLModel",
            "placeholder": "​",
            "_view_module": "@jupyter-widgets/controls",
            "_model_module_version": "1.5.0",
            "value": " 60000/60000 [00:38&lt;00:00, 1577.23it/s]",
            "_view_count": null,
            "_view_module_version": "1.5.0",
            "description_tooltip": null,
            "_model_module": "@jupyter-widgets/controls",
            "layout": "IPY_MODEL_82dff58afa7a4b2989639e4e4600ca18"
          }
        },
        "e0331e6a10d6471499426db81a335c45": {
          "model_module": "@jupyter-widgets/controls",
          "model_name": "ProgressStyleModel",
          "state": {
            "_view_name": "StyleView",
            "_model_name": "ProgressStyleModel",
            "description_width": "initial",
            "_view_module": "@jupyter-widgets/base",
            "_model_module_version": "1.5.0",
            "_view_count": null,
            "_view_module_version": "1.2.0",
            "bar_color": null,
            "_model_module": "@jupyter-widgets/controls"
          }
        },
        "d970c9186bcf4deeba8e01b4424176dd": {
          "model_module": "@jupyter-widgets/base",
          "model_name": "LayoutModel",
          "state": {
            "_view_name": "LayoutView",
            "grid_template_rows": null,
            "right": null,
            "justify_content": null,
            "_view_module": "@jupyter-widgets/base",
            "overflow": null,
            "_model_module_version": "1.2.0",
            "_view_count": null,
            "flex_flow": null,
            "width": null,
            "min_width": null,
            "border": null,
            "align_items": null,
            "bottom": null,
            "_model_module": "@jupyter-widgets/base",
            "top": null,
            "grid_column": null,
            "overflow_y": null,
            "overflow_x": null,
            "grid_auto_flow": null,
            "grid_area": null,
            "grid_template_columns": null,
            "flex": null,
            "_model_name": "LayoutModel",
            "justify_items": null,
            "grid_row": null,
            "max_height": null,
            "align_content": null,
            "visibility": null,
            "align_self": null,
            "height": null,
            "min_height": null,
            "padding": null,
            "grid_auto_rows": null,
            "grid_gap": null,
            "max_width": null,
            "order": null,
            "_view_module_version": "1.2.0",
            "grid_template_areas": null,
            "object_position": null,
            "object_fit": null,
            "grid_auto_columns": null,
            "margin": null,
            "display": null,
            "left": null
          }
        },
        "2604593ad4744bcea70a5a6ed9357ae3": {
          "model_module": "@jupyter-widgets/controls",
          "model_name": "DescriptionStyleModel",
          "state": {
            "_view_name": "StyleView",
            "_model_name": "DescriptionStyleModel",
            "description_width": "",
            "_view_module": "@jupyter-widgets/base",
            "_model_module_version": "1.5.0",
            "_view_count": null,
            "_view_module_version": "1.2.0",
            "_model_module": "@jupyter-widgets/controls"
          }
        },
        "82dff58afa7a4b2989639e4e4600ca18": {
          "model_module": "@jupyter-widgets/base",
          "model_name": "LayoutModel",
          "state": {
            "_view_name": "LayoutView",
            "grid_template_rows": null,
            "right": null,
            "justify_content": null,
            "_view_module": "@jupyter-widgets/base",
            "overflow": null,
            "_model_module_version": "1.2.0",
            "_view_count": null,
            "flex_flow": null,
            "width": null,
            "min_width": null,
            "border": null,
            "align_items": null,
            "bottom": null,
            "_model_module": "@jupyter-widgets/base",
            "top": null,
            "grid_column": null,
            "overflow_y": null,
            "overflow_x": null,
            "grid_auto_flow": null,
            "grid_area": null,
            "grid_template_columns": null,
            "flex": null,
            "_model_name": "LayoutModel",
            "justify_items": null,
            "grid_row": null,
            "max_height": null,
            "align_content": null,
            "visibility": null,
            "align_self": null,
            "height": null,
            "min_height": null,
            "padding": null,
            "grid_auto_rows": null,
            "grid_gap": null,
            "max_width": null,
            "order": null,
            "_view_module_version": "1.2.0",
            "grid_template_areas": null,
            "object_position": null,
            "object_fit": null,
            "grid_auto_columns": null,
            "margin": null,
            "display": null,
            "left": null
          }
        },
        "799ac8e4d01545ef987c50445ca8473c": {
          "model_module": "@jupyter-widgets/controls",
          "model_name": "HBoxModel",
          "state": {
            "_view_name": "HBoxView",
            "_dom_classes": [],
            "_model_name": "HBoxModel",
            "_view_module": "@jupyter-widgets/controls",
            "_model_module_version": "1.5.0",
            "_view_count": null,
            "_view_module_version": "1.5.0",
            "box_style": "",
            "layout": "IPY_MODEL_6e0a8944a8ab4f1a852730cae7bddce6",
            "_model_module": "@jupyter-widgets/controls",
            "children": [
              "IPY_MODEL_dd7beba27da048649b202e4824cb3bf1",
              "IPY_MODEL_4915cf1e8a0e455b9a7e12cdf63cee53"
            ]
          }
        },
        "6e0a8944a8ab4f1a852730cae7bddce6": {
          "model_module": "@jupyter-widgets/base",
          "model_name": "LayoutModel",
          "state": {
            "_view_name": "LayoutView",
            "grid_template_rows": null,
            "right": null,
            "justify_content": null,
            "_view_module": "@jupyter-widgets/base",
            "overflow": null,
            "_model_module_version": "1.2.0",
            "_view_count": null,
            "flex_flow": null,
            "width": null,
            "min_width": null,
            "border": null,
            "align_items": null,
            "bottom": null,
            "_model_module": "@jupyter-widgets/base",
            "top": null,
            "grid_column": null,
            "overflow_y": null,
            "overflow_x": null,
            "grid_auto_flow": null,
            "grid_area": null,
            "grid_template_columns": null,
            "flex": null,
            "_model_name": "LayoutModel",
            "justify_items": null,
            "grid_row": null,
            "max_height": null,
            "align_content": null,
            "visibility": null,
            "align_self": null,
            "height": null,
            "min_height": null,
            "padding": null,
            "grid_auto_rows": null,
            "grid_gap": null,
            "max_width": null,
            "order": null,
            "_view_module_version": "1.2.0",
            "grid_template_areas": null,
            "object_position": null,
            "object_fit": null,
            "grid_auto_columns": null,
            "margin": null,
            "display": null,
            "left": null
          }
        },
        "dd7beba27da048649b202e4824cb3bf1": {
          "model_module": "@jupyter-widgets/controls",
          "model_name": "FloatProgressModel",
          "state": {
            "_view_name": "ProgressView",
            "style": "IPY_MODEL_88bc5c8a9a4d4de8bf7884b88b43336f",
            "_dom_classes": [],
            "description": "100%",
            "_model_name": "FloatProgressModel",
            "bar_style": "success",
            "max": 10000,
            "_view_module": "@jupyter-widgets/controls",
            "_model_module_version": "1.5.0",
            "value": 10000,
            "_view_count": null,
            "_view_module_version": "1.5.0",
            "orientation": "horizontal",
            "min": 0,
            "description_tooltip": null,
            "_model_module": "@jupyter-widgets/controls",
            "layout": "IPY_MODEL_e0d1593d8df648fe9d2113a9843ad889"
          }
        },
        "4915cf1e8a0e455b9a7e12cdf63cee53": {
          "model_module": "@jupyter-widgets/controls",
          "model_name": "HTMLModel",
          "state": {
            "_view_name": "HTMLView",
            "style": "IPY_MODEL_0ad5f99ae6814d6c9a2bf2ad8b9a849f",
            "_dom_classes": [],
            "description": "",
            "_model_name": "HTMLModel",
            "placeholder": "​",
            "_view_module": "@jupyter-widgets/controls",
            "_model_module_version": "1.5.0",
            "value": " 10000/10000 [00:02&lt;00:00, 4687.45it/s]",
            "_view_count": null,
            "_view_module_version": "1.5.0",
            "description_tooltip": null,
            "_model_module": "@jupyter-widgets/controls",
            "layout": "IPY_MODEL_765479b0d6fc44d19579b9a4a6ae5809"
          }
        },
        "88bc5c8a9a4d4de8bf7884b88b43336f": {
          "model_module": "@jupyter-widgets/controls",
          "model_name": "ProgressStyleModel",
          "state": {
            "_view_name": "StyleView",
            "_model_name": "ProgressStyleModel",
            "description_width": "initial",
            "_view_module": "@jupyter-widgets/base",
            "_model_module_version": "1.5.0",
            "_view_count": null,
            "_view_module_version": "1.2.0",
            "bar_color": null,
            "_model_module": "@jupyter-widgets/controls"
          }
        },
        "e0d1593d8df648fe9d2113a9843ad889": {
          "model_module": "@jupyter-widgets/base",
          "model_name": "LayoutModel",
          "state": {
            "_view_name": "LayoutView",
            "grid_template_rows": null,
            "right": null,
            "justify_content": null,
            "_view_module": "@jupyter-widgets/base",
            "overflow": null,
            "_model_module_version": "1.2.0",
            "_view_count": null,
            "flex_flow": null,
            "width": null,
            "min_width": null,
            "border": null,
            "align_items": null,
            "bottom": null,
            "_model_module": "@jupyter-widgets/base",
            "top": null,
            "grid_column": null,
            "overflow_y": null,
            "overflow_x": null,
            "grid_auto_flow": null,
            "grid_area": null,
            "grid_template_columns": null,
            "flex": null,
            "_model_name": "LayoutModel",
            "justify_items": null,
            "grid_row": null,
            "max_height": null,
            "align_content": null,
            "visibility": null,
            "align_self": null,
            "height": null,
            "min_height": null,
            "padding": null,
            "grid_auto_rows": null,
            "grid_gap": null,
            "max_width": null,
            "order": null,
            "_view_module_version": "1.2.0",
            "grid_template_areas": null,
            "object_position": null,
            "object_fit": null,
            "grid_auto_columns": null,
            "margin": null,
            "display": null,
            "left": null
          }
        },
        "0ad5f99ae6814d6c9a2bf2ad8b9a849f": {
          "model_module": "@jupyter-widgets/controls",
          "model_name": "DescriptionStyleModel",
          "state": {
            "_view_name": "StyleView",
            "_model_name": "DescriptionStyleModel",
            "description_width": "",
            "_view_module": "@jupyter-widgets/base",
            "_model_module_version": "1.5.0",
            "_view_count": null,
            "_view_module_version": "1.2.0",
            "_model_module": "@jupyter-widgets/controls"
          }
        },
        "765479b0d6fc44d19579b9a4a6ae5809": {
          "model_module": "@jupyter-widgets/base",
          "model_name": "LayoutModel",
          "state": {
            "_view_name": "LayoutView",
            "grid_template_rows": null,
            "right": null,
            "justify_content": null,
            "_view_module": "@jupyter-widgets/base",
            "overflow": null,
            "_model_module_version": "1.2.0",
            "_view_count": null,
            "flex_flow": null,
            "width": null,
            "min_width": null,
            "border": null,
            "align_items": null,
            "bottom": null,
            "_model_module": "@jupyter-widgets/base",
            "top": null,
            "grid_column": null,
            "overflow_y": null,
            "overflow_x": null,
            "grid_auto_flow": null,
            "grid_area": null,
            "grid_template_columns": null,
            "flex": null,
            "_model_name": "LayoutModel",
            "justify_items": null,
            "grid_row": null,
            "max_height": null,
            "align_content": null,
            "visibility": null,
            "align_self": null,
            "height": null,
            "min_height": null,
            "padding": null,
            "grid_auto_rows": null,
            "grid_gap": null,
            "max_width": null,
            "order": null,
            "_view_module_version": "1.2.0",
            "grid_template_areas": null,
            "object_position": null,
            "object_fit": null,
            "grid_auto_columns": null,
            "margin": null,
            "display": null,
            "left": null
          }
        },
        "96455b7b4f1d4f6c951c4161c6790de2": {
          "model_module": "@jupyter-widgets/controls",
          "model_name": "HBoxModel",
          "state": {
            "_view_name": "HBoxView",
            "_dom_classes": [],
            "_model_name": "HBoxModel",
            "_view_module": "@jupyter-widgets/controls",
            "_model_module_version": "1.5.0",
            "_view_count": null,
            "_view_module_version": "1.5.0",
            "box_style": "",
            "layout": "IPY_MODEL_3108691ab8454411b17e61694496be71",
            "_model_module": "@jupyter-widgets/controls",
            "children": [
              "IPY_MODEL_1285da3f2f844a378e2d6319f80a554b",
              "IPY_MODEL_f7fde9d2eda9443598095b7e9c677bd2"
            ]
          }
        },
        "3108691ab8454411b17e61694496be71": {
          "model_module": "@jupyter-widgets/base",
          "model_name": "LayoutModel",
          "state": {
            "_view_name": "LayoutView",
            "grid_template_rows": null,
            "right": null,
            "justify_content": null,
            "_view_module": "@jupyter-widgets/base",
            "overflow": null,
            "_model_module_version": "1.2.0",
            "_view_count": null,
            "flex_flow": null,
            "width": null,
            "min_width": null,
            "border": null,
            "align_items": null,
            "bottom": null,
            "_model_module": "@jupyter-widgets/base",
            "top": null,
            "grid_column": null,
            "overflow_y": null,
            "overflow_x": null,
            "grid_auto_flow": null,
            "grid_area": null,
            "grid_template_columns": null,
            "flex": null,
            "_model_name": "LayoutModel",
            "justify_items": null,
            "grid_row": null,
            "max_height": null,
            "align_content": null,
            "visibility": null,
            "align_self": null,
            "height": null,
            "min_height": null,
            "padding": null,
            "grid_auto_rows": null,
            "grid_gap": null,
            "max_width": null,
            "order": null,
            "_view_module_version": "1.2.0",
            "grid_template_areas": null,
            "object_position": null,
            "object_fit": null,
            "grid_auto_columns": null,
            "margin": null,
            "display": null,
            "left": null
          }
        },
        "1285da3f2f844a378e2d6319f80a554b": {
          "model_module": "@jupyter-widgets/controls",
          "model_name": "FloatProgressModel",
          "state": {
            "_view_name": "ProgressView",
            "style": "IPY_MODEL_f614db0bd98f41b695d113e947a8179f",
            "_dom_classes": [],
            "description": " 26%",
            "_model_name": "FloatProgressModel",
            "bar_style": "danger",
            "max": 100000,
            "_view_module": "@jupyter-widgets/controls",
            "_model_module_version": "1.5.0",
            "value": 26341,
            "_view_count": null,
            "_view_module_version": "1.5.0",
            "orientation": "horizontal",
            "min": 0,
            "description_tooltip": null,
            "_model_module": "@jupyter-widgets/controls",
            "layout": "IPY_MODEL_540167396d18480e8bdb67e2cb612868"
          }
        },
        "f7fde9d2eda9443598095b7e9c677bd2": {
          "model_module": "@jupyter-widgets/controls",
          "model_name": "HTMLModel",
          "state": {
            "_view_name": "HTMLView",
            "style": "IPY_MODEL_661769ab89794d7791272e70bc35002c",
            "_dom_classes": [],
            "description": "",
            "_model_name": "HTMLModel",
            "placeholder": "​",
            "_view_module": "@jupyter-widgets/controls",
            "_model_module_version": "1.5.0",
            "value": " 26341/100000 [00:56&lt;01:45, 700.90it/s]",
            "_view_count": null,
            "_view_module_version": "1.5.0",
            "description_tooltip": null,
            "_model_module": "@jupyter-widgets/controls",
            "layout": "IPY_MODEL_9ed515f0a53640fc839de13a7e752321"
          }
        },
        "f614db0bd98f41b695d113e947a8179f": {
          "model_module": "@jupyter-widgets/controls",
          "model_name": "ProgressStyleModel",
          "state": {
            "_view_name": "StyleView",
            "_model_name": "ProgressStyleModel",
            "description_width": "initial",
            "_view_module": "@jupyter-widgets/base",
            "_model_module_version": "1.5.0",
            "_view_count": null,
            "_view_module_version": "1.2.0",
            "bar_color": null,
            "_model_module": "@jupyter-widgets/controls"
          }
        },
        "540167396d18480e8bdb67e2cb612868": {
          "model_module": "@jupyter-widgets/base",
          "model_name": "LayoutModel",
          "state": {
            "_view_name": "LayoutView",
            "grid_template_rows": null,
            "right": null,
            "justify_content": null,
            "_view_module": "@jupyter-widgets/base",
            "overflow": null,
            "_model_module_version": "1.2.0",
            "_view_count": null,
            "flex_flow": null,
            "width": null,
            "min_width": null,
            "border": null,
            "align_items": null,
            "bottom": null,
            "_model_module": "@jupyter-widgets/base",
            "top": null,
            "grid_column": null,
            "overflow_y": null,
            "overflow_x": null,
            "grid_auto_flow": null,
            "grid_area": null,
            "grid_template_columns": null,
            "flex": null,
            "_model_name": "LayoutModel",
            "justify_items": null,
            "grid_row": null,
            "max_height": null,
            "align_content": null,
            "visibility": null,
            "align_self": null,
            "height": null,
            "min_height": null,
            "padding": null,
            "grid_auto_rows": null,
            "grid_gap": null,
            "max_width": null,
            "order": null,
            "_view_module_version": "1.2.0",
            "grid_template_areas": null,
            "object_position": null,
            "object_fit": null,
            "grid_auto_columns": null,
            "margin": null,
            "display": null,
            "left": null
          }
        },
        "661769ab89794d7791272e70bc35002c": {
          "model_module": "@jupyter-widgets/controls",
          "model_name": "DescriptionStyleModel",
          "state": {
            "_view_name": "StyleView",
            "_model_name": "DescriptionStyleModel",
            "description_width": "",
            "_view_module": "@jupyter-widgets/base",
            "_model_module_version": "1.5.0",
            "_view_count": null,
            "_view_module_version": "1.2.0",
            "_model_module": "@jupyter-widgets/controls"
          }
        },
        "9ed515f0a53640fc839de13a7e752321": {
          "model_module": "@jupyter-widgets/base",
          "model_name": "LayoutModel",
          "state": {
            "_view_name": "LayoutView",
            "grid_template_rows": null,
            "right": null,
            "justify_content": null,
            "_view_module": "@jupyter-widgets/base",
            "overflow": null,
            "_model_module_version": "1.2.0",
            "_view_count": null,
            "flex_flow": null,
            "width": null,
            "min_width": null,
            "border": null,
            "align_items": null,
            "bottom": null,
            "_model_module": "@jupyter-widgets/base",
            "top": null,
            "grid_column": null,
            "overflow_y": null,
            "overflow_x": null,
            "grid_auto_flow": null,
            "grid_area": null,
            "grid_template_columns": null,
            "flex": null,
            "_model_name": "LayoutModel",
            "justify_items": null,
            "grid_row": null,
            "max_height": null,
            "align_content": null,
            "visibility": null,
            "align_self": null,
            "height": null,
            "min_height": null,
            "padding": null,
            "grid_auto_rows": null,
            "grid_gap": null,
            "max_width": null,
            "order": null,
            "_view_module_version": "1.2.0",
            "grid_template_areas": null,
            "object_position": null,
            "object_fit": null,
            "grid_auto_columns": null,
            "margin": null,
            "display": null,
            "left": null
          }
        }
      }
    }
  },
  "cells": [
    {
      "cell_type": "markdown",
      "metadata": {
        "id": "XeAD9ZeSeHRC"
      },
      "source": [
        "# Import Packages"
      ]
    },
    {
      "cell_type": "code",
      "metadata": {
        "id": "hs-u4PkBfD3d"
      },
      "source": [
        "%cd /content/drive/My Drive/20FA/DataMining/HW3"
      ],
      "execution_count": null,
      "outputs": []
    },
    {
      "cell_type": "code",
      "metadata": {
        "id": "LSrdve7YjZJd"
      },
      "source": [
        "import numpy as np\n",
        "from scipy.optimize import minimize\n",
        "from scipy.optimize import LinearConstraint\n",
        "from tqdm.notebook import tqdm\n",
        "import torch\n",
        "from torchvision import datasets, transforms\n",
        "import matplotlib.pyplot as plt\n",
        "%matplotlib inline"
      ],
      "execution_count": 8,
      "outputs": []
    },
    {
      "cell_type": "markdown",
      "metadata": {
        "id": "LZbiDkD1Na0J"
      },
      "source": [
        "# \"0\"/\"9\" Data Extraction"
      ]
    },
    {
      "cell_type": "code",
      "metadata": {
        "id": "a5pAg2Sm71PN"
      },
      "source": [
        "transform = transforms.Compose([\n",
        "    transforms.ToTensor(),\n",
        "    transforms.Normalize((0.5,),(0.5)),\n",
        "])\n",
        "trainset = datasets.MNIST('PATH_TO_STORE_TRAINSET', download=True, train=True, transform=transform)\n",
        "valset = datasets.MNIST('PATH_TO_STORE_TESTSET', download=True, train=False, transform=transform)\n",
        "\n",
        "trainloader = torch.utils.data.DataLoader(trainset)\n",
        "valloader = torch.utils.data.DataLoader(valset)"
      ],
      "execution_count": 4,
      "outputs": []
    },
    {
      "cell_type": "code",
      "metadata": {
        "colab": {
          "base_uri": "https://localhost:8080/",
          "height": 67,
          "referenced_widgets": [
            "4dab603949ab408b896f1189c9e841d3",
            "dde2ad539e8b42ce80185725ce1d8076",
            "27bf4abe236b4514b45a6cfb56ff673b",
            "9351ff4c7cc7415288eb9cbca20a2dc5",
            "e0331e6a10d6471499426db81a335c45",
            "d970c9186bcf4deeba8e01b4424176dd",
            "2604593ad4744bcea70a5a6ed9357ae3",
            "82dff58afa7a4b2989639e4e4600ca18"
          ]
        },
        "id": "StrinWs2-DEw",
        "outputId": "d235c990-e0d3-483e-9707-c9e6272ed8ff"
      },
      "source": [
        "ZeroNineTrain = [i for i in tqdm(trainset) if (i[1] == 0)|(i[1] == 9)]\n",
        "X_train, y_train = zip(*ZeroNineTrain)\n",
        "X_train = torch.stack(X_train)\n",
        "y_train = torch.tensor(y_train)"
      ],
      "execution_count": 5,
      "outputs": [
        {
          "output_type": "display_data",
          "data": {
            "application/vnd.jupyter.widget-view+json": {
              "model_id": "4dab603949ab408b896f1189c9e841d3",
              "version_minor": 0,
              "version_major": 2
            },
            "text/plain": [
              "HBox(children=(FloatProgress(value=0.0, max=60000.0), HTML(value='')))"
            ]
          },
          "metadata": {
            "tags": []
          }
        },
        {
          "output_type": "stream",
          "text": [
            "\n"
          ],
          "name": "stdout"
        }
      ]
    },
    {
      "cell_type": "code",
      "metadata": {
        "colab": {
          "base_uri": "https://localhost:8080/",
          "height": 67,
          "referenced_widgets": [
            "799ac8e4d01545ef987c50445ca8473c",
            "6e0a8944a8ab4f1a852730cae7bddce6",
            "dd7beba27da048649b202e4824cb3bf1",
            "4915cf1e8a0e455b9a7e12cdf63cee53",
            "88bc5c8a9a4d4de8bf7884b88b43336f",
            "e0d1593d8df648fe9d2113a9843ad889",
            "0ad5f99ae6814d6c9a2bf2ad8b9a849f",
            "765479b0d6fc44d19579b9a4a6ae5809"
          ]
        },
        "id": "iunWaa-LLHr8",
        "outputId": "07f7fc71-184d-404a-ca71-0df2192473e1"
      },
      "source": [
        "ZeroNineVal = [i for i in tqdm(valset) if (i[1] == 0)|(i[1] == 9)]\n",
        "X_val, y_val = zip(*ZeroNineVal)\n",
        "X_val = torch.stack(X_val)\n",
        "y_val = torch.tensor(y_val)"
      ],
      "execution_count": 6,
      "outputs": [
        {
          "output_type": "display_data",
          "data": {
            "application/vnd.jupyter.widget-view+json": {
              "model_id": "799ac8e4d01545ef987c50445ca8473c",
              "version_minor": 0,
              "version_major": 2
            },
            "text/plain": [
              "HBox(children=(FloatProgress(value=0.0, max=10000.0), HTML(value='')))"
            ]
          },
          "metadata": {
            "tags": []
          }
        },
        {
          "output_type": "stream",
          "text": [
            "\n"
          ],
          "name": "stdout"
        }
      ]
    },
    {
      "cell_type": "code",
      "metadata": {
        "colab": {
          "base_uri": "https://localhost:8080/",
          "height": 283
        },
        "id": "WSilmjmdM86T",
        "outputId": "615977da-ab32-4f15-85d1-6ab114dba597"
      },
      "source": [
        "plt.imshow(X_train[0].squeeze(), cmap=\"gray_r\")\n",
        "plt.show()\n",
        "y_train[0]"
      ],
      "execution_count": 9,
      "outputs": [
        {
          "output_type": "display_data",
          "data": {
            "image/png": "[encoded data removed]",
            "text/plain": [
              "<Figure size 432x288 with 1 Axes>"
            ]
          },
          "metadata": {
            "tags": [],
            "needs_background": "light"
          }
        },
        {
          "output_type": "execute_result",
          "data": {
            "text/plain": [
              "tensor(0)"
            ]
          },
          "metadata": {
            "tags": []
          },
          "execution_count": 9
        }
      ]
    },
    {
      "cell_type": "code",
      "metadata": {
        "id": "fw3XWOKFLX9C"
      },
      "source": [
        "torch.save(X_train, \"X_train.pt\")\n",
        "torch.save(y_train, \"y_train.pt\")\n",
        "torch.save(X_val, \"X_val.pt\")\n",
        "torch.save(y_val, \"y_val.pt\")"
      ],
      "execution_count": 10,
      "outputs": []
    },
    {
      "cell_type": "markdown",
      "metadata": {
        "id": "i6Jxwqv6eJ_G"
      },
      "source": [
        "# Class: SVM"
      ]
    },
    {
      "cell_type": "code",
      "metadata": {
        "id": "TEie0FM_xokK"
      },
      "source": [
        "class SVM():\n",
        "    \"\"\" \n",
        "    SVM binary classifier, optimizing with the dual lagrangian program, \n",
        "    trained on batch. Uses the SMO algorithm.\n",
        "\n",
        "    [CS229 - Kernel Methods and SVM](http://cs229.stanford.edu/notes2020fall/notes2020fall/cs229-notes3.pdf)\n",
        "\n",
        "    ## Input:\n",
        "        X: (N, d)\n",
        "        Y: (N,)\n",
        "        n = batch_size: int\n",
        "        C: l1 regularization term. alpha_i in [0, C]\n",
        "\n",
        "    ## Intermediate parameters:\n",
        "        x: (n, d), random batch of X\n",
        "        y: (n)\n",
        "        M: (n, n), M[i,j] = y_iy_j<x_i,x_j>\n",
        "\n",
        "    ## Learned parameters:\n",
        "        alpha: (n,)\n",
        "        w: (d,)\n",
        "        b: int\n",
        "\n",
        "    \"\"\"\n",
        "\n",
        "    def __init__(self, X, Y, batch_size=64, C=5):\n",
        "        # X: (N,d), Y: (N,), x: (n,d), y:(n,)\n",
        "        # Fixed values\n",
        "        self.N, self.d = X.shape\n",
        "        self.n = batch_size\n",
        "        self.C = C\n",
        "        self.X = X\n",
        "        self.Y = Y\n",
        "        self.x = self.X[:self.n]\n",
        "        self.y = self.Y[:self.n]\n",
        "        self.M = np.outer(self.y,self.y) * np.dot(self.x, self.x.T)\n",
        "\n",
        "        \n",
        "        # Learned parameters\n",
        "        self.alpha = np.ones(self.n)\n",
        "        self.w = np.zeros(self.d)\n",
        "        self.b = 0\n",
        "    \n",
        "    def shuffle_batch(self):\n",
        "        batch_indices = np.random.choice(np.arange(self.N), self.n)\n",
        "        self.x = self.X[batch_indices]\n",
        "        self.y = self.Y[batch_indices]\n",
        "        self.M = np.outer(self.y,self.y) * np.dot(self.x, self.x.T)\n",
        "\n",
        "    def update_alpha(self, random_idx1, random_idx2):\n",
        "        Zeta = -np.sum(self.alpha*self.y) + (self.alpha*self.y)[random_idx1] + (self.alpha*self.y)[random_idx2]\n",
        "        self.alpha[random_idx1] = (Zeta - self.alpha[random_idx2]*self.y[random_idx2])*self.y[random_idx1]\n",
        "\n",
        "    def dual_obj(self, alpha):\n",
        "        return np.sum(alpha) - np.sum(0.5 * self.M * np.outer(alpha,alpha))\n",
        "    \n",
        "    def optimize(self, iterations = 100000, tol=1e-2):\n",
        "        prev_val = self.dual_obj(self.alpha)\n",
        "        # The first shuffling happens at time 0\n",
        "        shuffle_timepoint=0\n",
        "\n",
        "\n",
        "        for i in tqdm(range(iterations)):\n",
        "            self.w = np.dot(self.alpha*self.y, self.x)\n",
        "            self.b = (np.max(np.dot(self.x, self.w)[self.y==-1]) + np.min(np.dot(self.x, self.w)[self.y==1])) * -0.5\n",
        "\n",
        "            # Select 2 alphas randomly\n",
        "            random_idx1, random_idx2 = np.random.choice(np.arange(0, self.n), 2)\n",
        "\n",
        "            # The (quadratic w.r.t a2) function that scipy.optimize.minimize takes\n",
        "            def optimizeWRTa2(a2):\n",
        "                self.alpha[random_idx2] = a2\n",
        "                self.update_alpha(random_idx1, random_idx2)\n",
        "                return -self.dual_obj(self.alpha)\n",
        "\n",
        "            # Solve optimization w.r.t a2\n",
        "            a2 = self.alpha[random_idx2]\n",
        "            res = minimize(optimizeWRTa2, a2, bounds=[(0,self.C)])\n",
        "            a2 = res.x\n",
        "\n",
        "            # Update a2 in alpha\n",
        "            self.alpha[random_idx2] = a2\n",
        "            self.update_alpha(random_idx1, random_idx2)\n",
        "\n",
        "            # Check convergence\n",
        "            if (i%100 == 1):\n",
        "                if np.abs(self.dual_obj(self.alpha) - prev_val) < tol:\n",
        "                    if i - shuffle_timepoint < 200:\n",
        "                        print(\"Converges quickly after shuffling. End early.\")\n",
        "                        return\n",
        "                    else:\n",
        "                        print(f\"Optimized on one batch: {self.dual_obj(self.alpha) - prev_val}, shuffling... \\n\")\n",
        "                        self.shuffle_batch()\n",
        "                        # Record the time of shuffling. If next shuffling appears soon,\n",
        "                        # just end the training.\n",
        "                        shuffle_timepoint = i\n",
        "                        continue\n",
        "                else:\n",
        "                    if (i%1000 == 1):\n",
        "                        print(self.dual_obj(self.alpha) - prev_val)\n",
        "                    prev_val = self.dual_obj(self.alpha)\n",
        "\n"
      ],
      "execution_count": 53,
      "outputs": []
    },
    {
      "cell_type": "markdown",
      "metadata": {
        "id": "0z9a-ZrFJq9J"
      },
      "source": [
        "# Train & Val\n"
      ]
    },
    {
      "cell_type": "code",
      "metadata": {
        "id": "aqPowhJDJsUG"
      },
      "source": [
        "X_train = torch.load(\"X_train.pt\")\n",
        "y_train = torch.load(\"y_train.pt\")\n",
        "X_val = torch.load(\"X_val.pt\")\n",
        "y_val = torch.load(\"y_val.pt\")\n",
        "\n",
        "\n",
        "# Criteria: Label0: +1, Label9: -1\n",
        "y_train = (y_train==0)*2-1\n",
        "y_val = (y_val==0)*2-1"
      ],
      "execution_count": 41,
      "outputs": []
    },
    {
      "cell_type": "code",
      "metadata": {
        "id": "nabRJQs_J5DM"
      },
      "source": [
        "# Sample data\n",
        "X = X_train.squeeze().view((X_train.shape[0],-1)).numpy()\n",
        "Y = y_train.numpy()"
      ],
      "execution_count": 42,
      "outputs": []
    },
    {
      "cell_type": "code",
      "metadata": {
        "colab": {
          "base_uri": "https://localhost:8080/",
          "height": 1000,
          "referenced_widgets": [
            "96455b7b4f1d4f6c951c4161c6790de2",
            "3108691ab8454411b17e61694496be71",
            "1285da3f2f844a378e2d6319f80a554b",
            "f7fde9d2eda9443598095b7e9c677bd2",
            "f614db0bd98f41b695d113e947a8179f",
            "540167396d18480e8bdb67e2cb612868",
            "661769ab89794d7791272e70bc35002c",
            "9ed515f0a53640fc839de13a7e752321"
          ]
        },
        "id": "yPapk5fqJ6hV",
        "outputId": "a8895af6-8eb0-4613-c196-60028fefa37f"
      },
      "source": [
        "svm = SVM(X, Y)\n",
        "svm.optimize()"
      ],
      "execution_count": 54,
      "outputs": [
        {
          "output_type": "display_data",
          "data": {
            "application/vnd.jupyter.widget-view+json": {
              "model_id": "96455b7b4f1d4f6c951c4161c6790de2",
              "version_minor": 0,
              "version_major": 2
            },
            "text/plain": [
              "HBox(children=(FloatProgress(value=0.0, max=100000.0), HTML(value='')))"
            ]
          },
          "metadata": {
            "tags": []
          }
        },
        {
          "output_type": "stream",
          "text": [
            "14448.953491210938\n",
            "4635.551941284434\n",
            "2231.0210423407925\n",
            "112.68017049568653\n",
            "6.430136875566648\n",
            "0.34646705035092173\n",
            "-4.375698038744202\n",
            "9.577710763486996\n",
            "-5.988378290466628\n",
            "-1.2618465858068237\n",
            "0.7820677580347501\n",
            "0.4630845548694932\n",
            "0.03372922732873379\n",
            "-0.6528973292852496\n",
            "Optimized on one batch: 0.00878679842644127, shuffling... \n",
            "\n",
            "0.02939665488951175\n",
            "Optimized on one batch: -0.0034607304745465223, shuffling... \n",
            "\n",
            "0.02462266184861698\n",
            "Optimized on one batch: -0.00987891841492506, shuffling... \n",
            "\n",
            "Optimized on one batch: -0.004513909315166861, shuffling... \n",
            "\n",
            "-0.07366689098423299\n",
            "Optimized on one batch: -0.004926385379060955, shuffling... \n",
            "\n",
            "Optimized on one batch: -0.005149529620976159, shuffling... \n",
            "\n",
            "0.036334109298212236\n",
            "Optimized on one batch: 0.003488566809090793, shuffling... \n",
            "\n",
            "Optimized on one batch: 0.009309467994420256, shuffling... \n",
            "\n",
            "-0.28686656543856864\n",
            "0.295984092065088\n",
            "Optimized on one batch: -0.000594648892240146, shuffling... \n",
            "\n",
            "Optimized on one batch: -0.007831639905080047, shuffling... \n",
            "\n",
            "0.15228572321144973\n",
            "Optimized on one batch: -0.007586712895750705, shuffling... \n",
            "\n",
            "Optimized on one batch: -0.005024302091153662, shuffling... \n",
            "\n",
            "0.32510282520237854\n",
            "0.11352258087040396\n",
            "Optimized on one batch: 0.009893968978069378, shuffling... \n",
            "\n",
            "-1.1689421930761912\n",
            "0.34533363154205104\n",
            "-0.061124925328638696\n",
            "Optimized on one batch: -0.008814120176489873, shuffling... \n",
            "\n",
            "Optimized on one batch: -0.002068565945538711, shuffling... \n",
            "\n",
            "-0.05975177325105696\n",
            "Optimized on one batch: -0.007385645890327919, shuffling... \n",
            "\n",
            "Converges quickly after shuffling. End early.\n"
          ],
          "name": "stdout"
        }
      ]
    },
    {
      "cell_type": "code",
      "metadata": {
        "id": "OKMzGb8WOkdJ"
      },
      "source": [
        "Y_ = np.sign(np.dot(X, svm.w) + svm.b)"
      ],
      "execution_count": 55,
      "outputs": []
    },
    {
      "cell_type": "code",
      "metadata": {
        "colab": {
          "base_uri": "https://localhost:8080/"
        },
        "id": "4SgZfxy6Ov0X",
        "outputId": "8bfc2797-50f0-4412-c20a-2080a58dbc2f"
      },
      "source": [
        "np.mean(Y == Y_)"
      ],
      "execution_count": 56,
      "outputs": [
        {
          "output_type": "execute_result",
          "data": {
            "text/plain": [
              "0.9143362533692723"
            ]
          },
          "metadata": {
            "tags": []
          },
          "execution_count": 56
        }
      ]
    },
    {
      "cell_type": "code",
      "metadata": {
        "id": "pEsbAzXRb6Zj"
      },
      "source": [
        "X_test = X_val.squeeze().view((X_val.shape[0],-1)).numpy()\n",
        "Y_test = y_val.numpy()"
      ],
      "execution_count": 57,
      "outputs": []
    },
    {
      "cell_type": "code",
      "metadata": {
        "colab": {
          "base_uri": "https://localhost:8080/"
        },
        "id": "m40Xei-BcEIU",
        "outputId": "ce2b3819-c62e-47fd-8d10-53accee4bdd7"
      },
      "source": [
        "np.mean(Y_test == np.sign(np.dot(X_test, svm.w) + svm.b))"
      ],
      "execution_count": 58,
      "outputs": [
        {
          "output_type": "execute_result",
          "data": {
            "text/plain": [
              "0.9235796882855707"
            ]
          },
          "metadata": {
            "tags": []
          },
          "execution_count": 58
        }
      ]
    },
    {
      "cell_type": "code",
      "metadata": {
        "id": "yDLk0jBXjBIQ"
      },
      "source": [
        ""
      ],
      "execution_count": null,
      "outputs": []
    }
  ]
}